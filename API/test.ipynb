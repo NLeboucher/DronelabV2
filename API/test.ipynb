{
 "cells": [
  {
   "cell_type": "code",
   "execution_count": 3,
   "metadata": {},
   "outputs": [],
   "source": [
    "import cflib.crtp as crtp\n",
    "from cflib.crazyflie import Crazyflie\n",
    "from cflib.crazyflie.swarm import CachedCfFactory\n",
    "from cflib.crazyflie.swarm import Swarm\n"
   ]
  },
  {
   "cell_type": "code",
   "execution_count": 1,
   "metadata": {},
   "outputs": [
    {
     "ename": "SyntaxError",
     "evalue": "invalid syntax (1047112140.py, line 2)",
     "output_type": "error",
     "traceback": [
      "\u001b[0;36m  Cell \u001b[0;32mIn[1], line 2\u001b[0;36m\u001b[0m\n\u001b[0;31m    from cflib.crazyflie import Crazyflie, syncCrazyflie.SyncCrazyflie\u001b[0m\n\u001b[0m                                                        ^\u001b[0m\n\u001b[0;31mSyntaxError\u001b[0m\u001b[0;31m:\u001b[0m invalid syntax\n"
     ]
    }
   ],
   "source": [
    "import cflib.crtp\n",
    "from cflib.crazyflie import Crazyflie, syncCrazyflie\n",
    "from datetime import datetime\n",
    "from Logger import Logger\n",
    "logger = Logger(\"log.txt\")\n",
    "# Add the appropriate URI(s) of the drone(s) you want to communicate with\n",
    "uris = [\"radio://0/80/2M/E7E7E7E701\", \"radio://0/27/2M/E7E7E7E702\", \"radio://0/28/2M/E7E7E7E703\"]\n",
    "activeuris = []\n",
    "\n",
    "# Function for connecting to a single drone\n",
    "def connect_to_drone(uri):\n",
    "    print(f\"Connecting to {uri}...\")\n",
    "    try:\n",
    "        with SyncCrazyflie(uri, cf=Crazyflie(rw_cache='./cache')) as scf:\n",
    "            # Do something with the connected drone\n",
    "            # For example, scf.cf.commander.send_setpoint(0, 0, 0, 0) for setting the setpoint\n",
    "            activeuris.append(uri)\n",
    "    except Exception as e:\n",
    "        logger.warning(f\"Failed to connect to {uri} due to {e}\")\n",
    "\n",
    "# Initialize the drivers\n",
    "cflib.crtp.init_drivers(enable_debug_driver=False)\n",
    "\n",
    "for uri in uris:\n",
    "    connect_to_drone(uri)\n",
    "print(activeuris)\n",
    "\n"
   ]
  },
  {
   "cell_type": "code",
   "execution_count": 25,
   "metadata": {},
   "outputs": [
    {
     "name": "stderr",
     "output_type": "stream",
     "text": [
      "Exception in thread Thread-35:\n",
      "Traceback (most recent call last):\n",
      "  File \"/usr/lib/python3.11/threading.py\", line 1045, in _bootstrap_inner\n",
      "    self.run()\n",
      "  File \"/home/nicos/Documents/code/dronelabv2/API/venv/lib/python3.11/site-packages/cflib/crazyflie/__init__.py\", line 402, in run\n",
      "    pk = self.cf.link.receive_packet(1)\n",
      "         ^^^^^^^^^^^^^^^^^^^^^^^^^^^\n",
      "AttributeError: 'str' object has no attribute 'receive_packet'\n",
      "Exception in thread Thread-37:\n",
      "Traceback (most recent call last):\n",
      "  File \"/usr/lib/python3.11/threading.py\", line 1045, in _bootstrap_inner\n",
      "    self.run()\n",
      "  File \"/home/nicos/Documents/code/dronelabv2/API/venv/lib/python3.11/site-packages/cflib/crazyflie/__init__.py\", line 402, in run\n",
      "    pk = self.cf.link.receive_packet(1)\n",
      "         ^^^^^^^^^^^^^^^^^^^^^^^^^^^\n",
      "AttributeError: 'str' object has no attribute 'receive_packet'\n"
     ]
    },
    {
     "name": "stdout",
     "output_type": "stream",
     "text": [
      "Connecting to radio://0/80/2M/E7E7E7E701...\n",
      "Connected to radio://0/80/2M/E7E7E7E701\n",
      "Connecting to radio://0/27/2M/E7E7E7E702...\n",
      "Connected to radio://0/27/2M/E7E7E7E702\n",
      "Connecting to radio://0/28/2M/E7E7E7E703...\n",
      "Connected to radio://0/28/2M/E7E7E7E703\n"
     ]
    },
    {
     "name": "stderr",
     "output_type": "stream",
     "text": [
      "Exception in thread Thread-39:\n",
      "Traceback (most recent call last):\n",
      "  File \"/usr/lib/python3.11/threading.py\", line 1045, in _bootstrap_inner\n",
      "    self.run()\n",
      "  File \"/home/nicos/Documents/code/dronelabv2/API/venv/lib/python3.11/site-packages/cflib/crazyflie/__init__.py\", line 402, in run\n",
      "    pk = self.cf.link.receive_packet(1)\n",
      "         ^^^^^^^^^^^^^^^^^^^^^^^^^^^\n",
      "AttributeError: 'str' object has no attribute 'receive_packet'\n"
     ]
    }
   ],
   "source": [
    "import cflib.crtp\n",
    "from cflib.crazyflie.syncCrazyflie import SyncCrazyflie\n",
    "from cflib.crazyflie import Crazyflie\n",
    "#from concurrent.futures import ThreadPoolExecutor\n",
    "\n",
    "# Add the appropriate URI(s) of the drone(s) you want to communicate with\n",
    "uris = [\"radio://0/80/2M/E7E7E7E701\", \"radio://0/27/2M/E7E7E7E702\", \"radio://0/28/2M/E7E7E7E703\"]\n",
    "\n",
    "# Function for connecting to a single drone\n",
    "def connect_to_drone(uri):\n",
    "    print(f\"Connecting to {uri}...\")\n",
    "    try:\n",
    "        Crazyflie(link=uri, rw_cache='./cache')\n",
    "            # Do something with the connected drone\n",
    "            # For example, scf.commander.send_setpoint(0, 0, 0, 0) for setting the setpoint\n",
    "        print(f\"Connected to {uri}\")\n",
    "    except Exception as e:\n",
    "        print(f\"Failed to connect to {uri} due to {e}\")\n",
    "\n",
    "# Initialize the drivers\n",
    "cflib.crtp.init_drivers(enable_debug_driver=False)\n",
    "\n",
    "connect_to_drone(uris[0])\n",
    "connect_to_drone(uris[1])\n",
    "connect_to_drone(uris[2])"
   ]
  },
  {
   "cell_type": "code",
   "execution_count": null,
   "metadata": {},
   "outputs": [],
   "source": [
    "with ThreadPoolExecutor() as executor:\n",
    "#     executor.map(connect_to_drone, uris)"
   ]
  }
 ],
 "metadata": {
  "kernelspec": {
   "display_name": "venv",
   "language": "python",
   "name": "python3"
  },
  "language_info": {
   "codemirror_mode": {
    "name": "ipython",
    "version": 3
   },
   "file_extension": ".py",
   "mimetype": "text/x-python",
   "name": "python",
   "nbconvert_exporter": "python",
   "pygments_lexer": "ipython3",
   "version": "3.11.6"
  },
  "orig_nbformat": 4
 },
 "nbformat": 4,
 "nbformat_minor": 2
}
