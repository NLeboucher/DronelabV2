{
 "cells": [
  {
   "cell_type": "code",
   "execution_count": 5,
   "metadata": {},
   "outputs": [],
   "source": [
    "from typing import Union\n",
    "\n",
    "from fastapi import FastAPI\n",
    "import math\n",
    "import time\n",
    "import json \n",
    "import cflib.crtp\n",
    "from cflib.crazyflie import Crazyflie, syncCrazyflie\n",
    "from datetime import datetime\n",
    "from Logger import Logger\n",
    "from Move import Move\n",
    "from cflib.positioning.motion_commander import MotionCommander as Driver\n",
    "import threading\n",
    "from typing import List\n",
    "app = FastAPI()\n",
    "\n",
    "logger = Logger(\"log.txt\")\n",
    "activeuris = []\n",
    "activedrones = []\n",
    "# Add the appropriate URI(s) of the drone(s) you want to communicate with\n",
    "uris = [\"radio://0/80/2M/E7E7E7E701\", \"radio://0/27/2M/E7E7E7E702\", \"radio://0/28/2M/E7E7E7E703\"]\n",
    "\n",
    "cflib.crtp.init_drivers(enable_debug_driver=False)"
   ]
  },
  {
   "cell_type": "code",
   "execution_count": 11,
   "metadata": {},
   "outputs": [
    {
     "name": "stderr",
     "output_type": "stream",
     "text": [
      "Got link error callback [Too many packets lost] in state [2]\n",
      "Got link error callback [Too many packets lost] in state [2]\n"
     ]
    }
   ],
   "source": [
    "cflib.crtp.init_drivers() \n",
    "temp = Crazyflie(rw_cache='./cache')\n",
    "temp.close_link()\n",
    "temp2.close_link()\n",
    "temp.open_link(link_uri=uris[0])"
   ]
  },
  {
   "cell_type": "code",
   "execution_count": 10,
   "metadata": {},
   "outputs": [
    {
     "data": {
      "text/plain": [
       "True"
      ]
     },
     "execution_count": 10,
     "metadata": {},
     "output_type": "execute_result"
    }
   ],
   "source": [
    "temp.is_connected()"
   ]
  },
  {
   "cell_type": "code",
   "execution_count": 8,
   "metadata": {},
   "outputs": [
    {
     "name": "stderr",
     "output_type": "stream",
     "text": [
      "Got link error callback [Too many packets lost] in state [1]\n"
     ]
    }
   ],
   "source": [
    "temp2 = Crazyflie(rw_cache='./cache')\n",
    "temp2.open_link(link_uri=uris[1])"
   ]
  },
  {
   "cell_type": "code",
   "execution_count": 9,
   "metadata": {},
   "outputs": [
    {
     "data": {
      "text/plain": [
       "False"
      ]
     },
     "execution_count": 9,
     "metadata": {},
     "output_type": "execute_result"
    }
   ],
   "source": [
    "temp2.is_connected()"
   ]
  },
  {
   "cell_type": "code",
   "execution_count": 23,
   "metadata": {},
   "outputs": [
    {
     "ename": "TypeError",
     "evalue": "SyncCrazyflie.__init__() got an unexpected keyword argument 'uri'",
     "output_type": "error",
     "traceback": [
      "\u001b[0;31m---------------------------------------------------------------------------\u001b[0m",
      "\u001b[0;31mTypeError\u001b[0m                                 Traceback (most recent call last)",
      "\u001b[1;32m/home/nicos/Documents/github/DronelabV2/API/test.ipynb Cell 6\u001b[0m line \u001b[0;36m1\n\u001b[1;32m      <a href='vscode-notebook-cell:/home/nicos/Documents/github/DronelabV2/API/test.ipynb#W6sZmlsZQ%3D%3D?line=6'>7</a>\u001b[0m cf \u001b[39m=\u001b[39m Crazyflie()\n\u001b[1;32m      <a href='vscode-notebook-cell:/home/nicos/Documents/github/DronelabV2/API/test.ipynb#W6sZmlsZQ%3D%3D?line=8'>9</a>\u001b[0m \u001b[39m# Initialize the high-level SyncCrazyflie API\u001b[39;00m\n\u001b[0;32m---> <a href='vscode-notebook-cell:/home/nicos/Documents/github/DronelabV2/API/test.ipynb#W6sZmlsZQ%3D%3D?line=9'>10</a>\u001b[0m scf \u001b[39m=\u001b[39m SyncCrazyflie(cf\u001b[39m=\u001b[39;49mCrazyflie(rw_cache\u001b[39m=\u001b[39;49m\u001b[39m'\u001b[39;49m\u001b[39m./cache\u001b[39;49m\u001b[39m'\u001b[39;49m), uri\u001b[39m=\u001b[39;49m\u001b[39m\"\u001b[39;49m\u001b[39mradio://0/80/2M/E7E7E7E701\u001b[39;49m\u001b[39m\"\u001b[39;49m)\n\u001b[1;32m     <a href='vscode-notebook-cell:/home/nicos/Documents/github/DronelabV2/API/test.ipynb#W6sZmlsZQ%3D%3D?line=10'>11</a>\u001b[0m scf\u001b[39m.\u001b[39mopen_link()\n\u001b[1;32m     <a href='vscode-notebook-cell:/home/nicos/Documents/github/DronelabV2/API/test.ipynb#W6sZmlsZQ%3D%3D?line=11'>12</a>\u001b[0m \u001b[39m# Get the positions of the Crazyflie objects\u001b[39;00m\n",
      "\u001b[0;31mTypeError\u001b[0m: SyncCrazyflie.__init__() got an unexpected keyword argument 'uri'"
     ]
    }
   ],
   "source": [
    "from cflib.crazyflie import Crazyflie\n",
    "from cflib.crazyflie.syncCrazyflie import SyncCrazyflie\n",
    "from cflib.crazyflie.log import LogConfig\n",
    "from cflib.crazyflie.syncLogger import SyncLogger\n",
    "\n",
    "# Initialize the low-level drivers\n",
    "cf = Crazyflie()\n",
    "\n",
    "# Initialize the high-level SyncCrazyflie API\n",
    "scf = SyncCrazyflie(cf=Crazyflie(rw_cache='./cache'), link_uri=\"radio://0/80/2M/E7E7E7E701\")\n",
    "scf.open_link()\n",
    "# Get the positions of the Crazyflie objects\n",
    "positions = scf.crazyflies[0].position\n",
    "\n",
    "# Print the positions\n",
    "print(positions)\n"
   ]
  }
 ],
 "metadata": {
  "interpreter": {
   "hash": "916dbcbb3f70747c44a77c7bcd40155683ae19c65e1c03b4aa3499c5328201f1"
  },
  "kernelspec": {
   "display_name": "Python 3.8.10 64-bit",
   "language": "python",
   "name": "python3"
  },
  "language_info": {
   "codemirror_mode": {
    "name": "ipython",
    "version": 3
   },
   "file_extension": ".py",
   "mimetype": "text/x-python",
   "name": "python",
   "nbconvert_exporter": "python",
   "pygments_lexer": "ipython3",
   "version": "3.10.12"
  },
  "orig_nbformat": 4
 },
 "nbformat": 4,
 "nbformat_minor": 2
}
