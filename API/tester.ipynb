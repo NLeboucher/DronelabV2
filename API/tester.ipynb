{
 "cells": [
  {
   "cell_type": "code",
   "execution_count": 2,
   "metadata": {},
   "outputs": [
    {
     "name": "stdout",
     "output_type": "stream",
     "text": [
      "Logger started. Logging to /home/nicos/Documents/github/DronelabV2/API/log.txt\n"
     ]
    }
   ],
   "source": [
    "import cflib\n",
    "from cflib.positioning.motion_commander import MotionCommander as Driver\n",
    "from cflib.positioning.position_hl_commander import PositionHlCommander as PositionHlCommander\n",
    "from cflib.crazyflie.param import Param\n",
    "from cflib.crazyflie.localization import Localization\n",
    "from Logger import Logger\n",
    "logger = Logger(\"log.txt\")\n",
    "\n",
    "class Quad:\n",
    "    quads = []\n",
    "    activeURIS = []\n",
    "    def __init__(self,uri:str,flying=False):\n",
    "        logger.info(f\"Quad {uri} creating with id {uri[len(uri)-1:]}\")\n",
    "        self.flying = flying\n",
    "        self.uri = uri\n",
    "        self.id = uri[len(uri)-1:]\n",
    "        logger.info(f\"Went to here\")\n",
    "        self.quads.append(self)\n",
    "        self.activeURIS.append(uri)\n",
    "        #self.quads.append(self.id)\n",
    "        logger.info(f\"Quad {self.uri} created\")\n",
    "        self.position = []\n",
    "        self.speed = []\n",
    "\n",
    "    "
   ]
  }
 ],
 "metadata": {
  "kernelspec": {
   "display_name": "venv",
   "language": "python",
   "name": "python3"
  },
  "language_info": {
   "codemirror_mode": {
    "name": "ipython",
    "version": 3
   },
   "file_extension": ".py",
   "mimetype": "text/x-python",
   "name": "python",
   "nbconvert_exporter": "python",
   "pygments_lexer": "ipython3",
   "version": "3.10.12"
  }
 },
 "nbformat": 4,
 "nbformat_minor": 2
}
